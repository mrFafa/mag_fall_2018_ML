{
 "cells": [
  {
   "cell_type": "code",
   "execution_count": 98,
   "metadata": {},
   "outputs": [],
   "source": [
    "import pandas as pd\n",
    "import numpy as np\n",
    "import re\n",
    "\n",
    "from io import StringIO\n",
    "\n",
    "from sklearn.externals import joblib\n",
    "from scipy.sparse import csr_matrix, lil_matrix\n",
    "from sklearn.datasets import make_regression\n",
    "from sklearn.linear_model import SGDRegressor\n",
    "from sklearn.linear_model import LinearRegression\n",
    "from sklearn.feature_extraction import DictVectorizer\n"
   ]
  },
  {
   "cell_type": "code",
   "execution_count": 99,
   "metadata": {},
   "outputs": [],
   "source": [
    "###читаем даатасет c фичами фильмов\n",
    "df_f = pd.read_csv('./movie_titles.csv', names=['MovieID', 'Year', 'Title'])\n",
    "df_f = df_f.set_index('MovieID')\n",
    "\n",
    "###читаем даатасет с инфой о пользователях\n",
    "f = open('./combined_data_1.txt')\n",
    "file = f.read()\n",
    "\n",
    "movieID_u = list(map(lambda x: int(x[:-1]), re.findall(r'\\d+\\:', file)))\n",
    "df_u = re.split(r'\\d+\\:', file)\n",
    "df_u = df_u[1:]    \n",
    "\n",
    "df = []\n",
    "for df_i, movieID_i in zip(df_u, movieID_u):\n",
    "    sub_df = pd.read_csv(StringIO(df_i), names=['UserID', 'Score', 'Date'])\n",
    "    sub_df['MovieID'] = movieID_i\n",
    "    df.append(sub_df)\n",
    "\n",
    "\n",
    "df = pd.concat(df)\n",
    "df_f = df_f.drop(df_f[df_f.index>df.MovieID.unique().shape[0]].index)\n",
    "#print(df_f)\n",
    "#print(df)\n"
   ]
  },
  {
   "cell_type": "code",
   "execution_count": 100,
   "metadata": {},
   "outputs": [],
   "source": [
    "u_size = df.UserID.unique().shape[0]\n",
    "m_size = df.MovieID.unique().shape[0]\n",
    "#y_size = df_f.Year.unique().shape[0]\n",
    "#s_size = df.Date.unique().shape[0]"
   ]
  },
  {
   "cell_type": "code",
   "execution_count": 103,
   "metadata": {},
   "outputs": [],
   "source": [
    "df.sort_values(by=['UserID', 'MovieID'], inplace=True)\n",
    "df.reset_index(drop=True, inplace=True)"
   ]
  },
  {
   "cell_type": "code",
   "execution_count": 120,
   "metadata": {},
   "outputs": [],
   "source": [
    "### разреженная матрица\n",
    "sm = lil_matrix((df.shape[0], u_size + m_size))\n",
    "#print(sm.shape)"
   ]
  },
  {
   "cell_type": "code",
   "execution_count": 121,
   "metadata": {},
   "outputs": [
    {
     "name": "stdout",
     "output_type": "stream",
     "text": [
      " Progress: 24050000/24053764 (99%)1.0\n"
     ]
    }
   ],
   "source": [
    "j=0\n",
    "temp = df.UserID.iat[0]\n",
    "\n",
    "for i in range(df.shape[0]):\n",
    "    \n",
    "    if(temp<df.UserID.iat[i]):\n",
    "        j+=1\n",
    "        temp = df.UserID.iat[i]\n",
    "        \n",
    "    sm[i, j] = 1\n",
    "    sm[i, u_size + df.MovieID.iat[i]-1] = 1\n",
    "    \n",
    "    if i % 50000 == 0:\n",
    "        print(\"\\r Progress: {}/{} ({}%)\".format(i, df.shape[0], int(((i+1) / df.shape[0]) * 100)), end=\"\")\n",
    "    #print(i, j, sm[i,j])\n",
    "    #print(i, j1, sm[i,j1])\n",
    "print(sm[0,0])"
   ]
  },
  {
   "cell_type": "code",
   "execution_count": 122,
   "metadata": {
    "scrolled": true
   },
   "outputs": [
    {
     "data": {
      "text/plain": [
       "['sparse_df_1.bin']"
      ]
     },
     "execution_count": 122,
     "metadata": {},
     "output_type": "execute_result"
    }
   ],
   "source": [
    "sm = csr_matrix(sm)\n",
    "joblib.dump(sm, 'sparse_df_1.bin')"
   ]
  },
  {
   "cell_type": "code",
   "execution_count": 123,
   "metadata": {},
   "outputs": [],
   "source": [
    "sm = joblib.load('sparse_df_1.bin')"
   ]
  },
  {
   "cell_type": "code",
   "execution_count": 127,
   "metadata": {},
   "outputs": [
    {
     "name": "stdout",
     "output_type": "stream",
     "text": [
      "  (0, 6)\t1.0\n",
      "  (0, 473670)\t1.0\n"
     ]
    }
   ],
   "source": [
    "print(sm[453, :])"
   ]
  },
  {
   "cell_type": "markdown",
   "metadata": {},
   "source": [
    "По лемме 1 нелинейную часть можно представить в виде: $\\sum_{i=1}^n \\sum_{j=i+1}^n \\langle {v}_i, {v}_f\\rangle x_ix_j = \\frac{1}{2}\\sum_{f=1}^k \\left( \\left(\\sum_{i=1}^n v_{i,f}x_i \\right)^2 - \\sum_{i=1}^n v^2_{i,f}x^2_i \\right)$\n",
    "<br>\n",
    "Производная $\\frac{dy}{dv}$ нелинейной части бдует следующей:\n",
    "<br>\n",
    "(1) = $\\left( \\left( \\sum_{i=1}^n v_{i,f}x_i \\right)^2 \\right)' _{v_if} = 2\\sum_{i=1}^n \\left(v_{i,f}x_i \\sum_{k=1}^n x_k\\right)$ или в матричном виде $\\sum_{f=1}^k2 (X\\mathbb{1})^TXV_f$\n",
    "<br>\n",
    "(2) = $ \\left( \\sum_{i=1}^n v_{i,f}^2x_i^2 \\right)' _{v_if} = 2\\sum_{i=1}^n v_{i,f}x_i^2 $ или в матричном виде $\\sum_{f=1}^k2 X^TXV_f$\n",
    "<br>\n",
    "<br>\n",
    "Тогда\n",
    "<br>\n",
    "$\\frac{dy}{dv_f} = \\frac{1}{2}\\sum_{f=1}^k \\left( (1) - (2) \\right)$ или в матричном виде $\\sum_{f=1}^k(X\\mathbb{1}-X)^TXV_f$\n",
    "<br>\n",
    "<br>\n",
    "И тогда $\\frac{dy}{dv}$ в матричном виде $(X\\mathbb{1}-X)^TXV\\mathbb{1}$"
   ]
  },
  {
   "cell_type": "code",
   "execution_count": 87,
   "metadata": {},
   "outputs": [],
   "source": [
    "def RMSE(x, y):\n",
    "    return np.sqrt(np.sum(np.power(y - x, 2)) / y.shape[0])\n",
    "\n",
    "def narrTheta(lr, iter_num):\n",
    "\treturn lr/np.sqrt(iter_num)\n",
    "\n",
    "def sgdFFM(X, y, max_iter = 1000, step = 1e-3, batch_size = 256, k = 8):\n",
    "\tw0 = 0\n",
    "\titer_num = 1\n",
    "\tN = X.shape[0]\n",
    "\tnp.random.seed(42)\n",
    "\tw1 = np.random.normal(size=X.shape[1])\n",
    "\n",
    "\n",
    "\twhile iter_num <= max_iter:\n",
    "\t\trandom_batch = np.random.choice(N, batch_size)\n",
    "\t\tnew_y = predict(X[random_batch, :], w0, w1)\n",
    "\t\t#print(X[random_batch].shape)\n",
    "\n",
    "\t\tdy = 2*(new_y - y[random_batch])/batch_size\n",
    "\t\t#print(iter_num, dy)\n",
    "\t\tw0 -= dy.mean()* step\n",
    "\t\tw1 -= X[random_batch, :].T@dy * narrTheta(step, iter_num)\n",
    "\t\titer_num += 1\n",
    "\treturn w0, w1\n",
    "\n",
    "def predict(X, w0, w1):\n",
    "\treturn w0 + X@w1"
   ]
  },
  {
   "cell_type": "code",
   "execution_count": 96,
   "metadata": {},
   "outputs": [
    {
     "name": "stdout",
     "output_type": "stream",
     "text": [
      "Fold 1 \n",
      "Обучающая: \n",
      " [ 126.37195716   -6.73739439  -86.9637686  ... -328.71416459  194.64693737\n",
      " -103.24970393] \n",
      "Тестовая: \n",
      " [ 201.80298459   27.95291549 -133.38659516 ... -302.74481683   -7.28493081\n",
      "  135.63554295] \n",
      " \n",
      "\n",
      "Fold 2 \n",
      "Обучающая: \n",
      " [ 201.80297263   27.95291799 -133.38659145 ... -328.71415688  194.64694361\n",
      " -103.24970361] \n",
      "Тестовая: \n",
      " [126.37194611  -6.73739554 -86.96376867 ... 142.29564483  18.83588498\n",
      " 139.10109659] \n",
      " \n",
      "\n",
      "Fold 3 \n",
      "Обучающая: \n",
      " [ 201.8029694    27.95291607 -133.38660349 ... -328.71415829  194.64693776\n",
      " -103.24969413] \n",
      "Тестовая: \n",
      " [  44.22443774  -68.8575299    87.24377208 ... -354.02619836 -145.24500191\n",
      "   85.99620224] \n",
      " \n",
      "\n",
      "Fold 4 \n",
      "Обучающая: \n",
      " [ 201.80299122   27.9529079  -133.38658592 ... -328.71416304  194.64694529\n",
      " -103.24970761] \n",
      "Тестовая: \n",
      " [ -96.55201672 -136.20803204  180.01644109 ...  100.79417176   18.3395286\n",
      " -217.34144083] \n",
      " \n",
      "\n",
      "Fold 5 \n",
      "Обучающая: \n",
      " [ 201.47780518   27.90003474 -133.1579091  ...  100.63397262   18.31251632\n",
      " -216.98041063] \n",
      "Тестовая: \n",
      " [  49.53898726 -177.60581779 -290.13645993 ...  134.95747818 -150.12015893\n",
      "  -10.80957959] \n",
      " \n",
      "\n"
     ]
    }
   ],
   "source": [
    "X, y, coefs = make_regression(n_samples=1000000, n_features=8, n_targets=1, n_informative=4, coef=True)\n",
    "\n",
    "folds_index = 5\n",
    "fold_size = round(df.shape[0] / folds_index)\n",
    "RMSE_test = []\n",
    "RMSE_train = []\n",
    "\n",
    "for i in range(folds_index):\n",
    "    test = X[i * fold_size:(i + 1) * fold_size]\n",
    "    testT = y[i * fold_size:(i + 1) * fold_size]\n",
    "    if i == 0:\n",
    "        train = X[(i + 1) * fold_size:]\n",
    "        trainT = y[(i + 1) * fold_size:]\n",
    "    else:\n",
    "        train = X[:i * fold_size]\n",
    "        trainT = y[:i * fold_size]\n",
    "        if i != 4:\n",
    "            train = np.concatenate((train, X[(i + 1) * fold_size:]))\n",
    "            trainT = np.concatenate([trainT, y[(i + 1) * fold_size:]])\n",
    "\n",
    "    Target = trainT\n",
    "    Features = train\n",
    "    w0, w1 = sgdFFM(Features, Target, 1e3, 1e-3, 256)\n",
    "\n",
    "    train_pred = predict(Features, w0, w1)\n",
    "\n",
    "    #RMSE_train.append(RMSE(train_pred, Target))\n",
    "    TargetT = testT\n",
    "    FeaturesT = test\n",
    "    test_pred = predict(FeaturesT, w0, w1)\n",
    "    #RMSE_test.append(RMSE(test_pred, Target))\n",
    "\n",
    "    print('Fold {}'.format(i+1), '\\nОбучающая: \\n',train_pred-Target, '\\nТестовая: \\n',test_pred-TargetT, '\\n', '\\n')\n"
   ]
  }
 ],
 "metadata": {
  "kernelspec": {
   "display_name": "Python 3",
   "language": "python",
   "name": "python3"
  },
  "language_info": {
   "codemirror_mode": {
    "name": "ipython",
    "version": 3
   },
   "file_extension": ".py",
   "mimetype": "text/x-python",
   "name": "python",
   "nbconvert_exporter": "python",
   "pygments_lexer": "ipython3",
   "version": "3.7.1"
  }
 },
 "nbformat": 4,
 "nbformat_minor": 2
}
