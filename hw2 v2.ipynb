{
 "cells": [
  {
   "cell_type": "code",
   "execution_count": 1,
   "metadata": {},
   "outputs": [],
   "source": [
    "import pandas as pd\n",
    "import numpy as np\n",
    "import re\n",
    "\n",
    "from io import StringIO\n",
    "\n",
    "from sklearn.externals import joblib\n",
    "from scipy.sparse import csr_matrix, lil_matrix\n",
    "from sklearn.datasets import make_regression\n",
    "from sklearn.linear_model import SGDRegressor\n",
    "from sklearn.linear_model import LinearRegression\n",
    "from sklearn.feature_extraction import DictVectorizer\n"
   ]
  },
  {
   "cell_type": "code",
   "execution_count": 2,
   "metadata": {},
   "outputs": [],
   "source": [
    "###читаем даатасет c фичами фильмов\n",
    "df_f = pd.read_csv('./movie_titles.csv', names=['MovieID', 'Year', 'Title'])\n",
    "df_f = df_f.set_index('MovieID')\n",
    "\n",
    "###читаем даатасет с инфой о пользователях\n",
    "f = open('./combined_data_1.txt')\n",
    "file = f.read()\n",
    "\n",
    "movieID_u = list(map(lambda x: int(x[:-1]), re.findall(r'\\d+\\:', file)))\n",
    "df_u = re.split(r'\\d+\\:', file)\n",
    "df_u = df_u[1:]    \n",
    "\n",
    "df = []\n",
    "for df_i, movieID_i in zip(df_u, movieID_u):\n",
    "    sub_df = pd.read_csv(StringIO(df_i), names=['UserID', 'Score', 'Date'])\n",
    "    sub_df['MovieID'] = movieID_i\n",
    "    df.append(sub_df)\n",
    "\n",
    "\n",
    "df = pd.concat(df)\n",
    "df_f = df_f.drop(df_f[df_f.index>df.MovieID.unique().shape[0]].index)\n",
    "#print(df_f)\n",
    "#print(df)\n"
   ]
  },
  {
   "cell_type": "code",
   "execution_count": 3,
   "metadata": {},
   "outputs": [],
   "source": [
    "u_size = df.UserID.unique().shape[0]\n",
    "m_size = df.MovieID.unique().shape[0]\n",
    "#y_size = df_f.Year.unique().shape[0]\n",
    "#s_size = df.Date.unique().shape[0]"
   ]
  },
  {
   "cell_type": "code",
   "execution_count": 4,
   "metadata": {},
   "outputs": [],
   "source": [
    "df.sort_values(by=['UserID', 'MovieID'], inplace=True)\n",
    "df.reset_index(drop=True, inplace=True)\n",
    "df_targ = df.Score"
   ]
  },
  {
   "cell_type": "code",
   "execution_count": 8,
   "metadata": {},
   "outputs": [],
   "source": [
    "### разреженная матрица\n",
    "sm = lil_matrix((df.shape[0], u_size + m_size))"
   ]
  },
  {
   "cell_type": "code",
   "execution_count": 9,
   "metadata": {},
   "outputs": [
    {
     "name": "stdout",
     "output_type": "stream",
     "text": [
      " Progress: 1600000/24053764 (6%)"
     ]
    },
    {
     "ename": "KeyboardInterrupt",
     "evalue": "",
     "output_type": "error",
     "traceback": [
      "\u001b[1;31m---------------------------------------------------------------------------\u001b[0m",
      "\u001b[1;31mKeyboardInterrupt\u001b[0m                         Traceback (most recent call last)",
      "\u001b[1;32m<ipython-input-9-e683b754b450>\u001b[0m in \u001b[0;36m<module>\u001b[1;34m\u001b[0m\n\u001b[0;32m      4\u001b[0m \u001b[1;32mfor\u001b[0m \u001b[0mi\u001b[0m \u001b[1;32min\u001b[0m \u001b[0mrange\u001b[0m\u001b[1;33m(\u001b[0m\u001b[0mdf\u001b[0m\u001b[1;33m.\u001b[0m\u001b[0mshape\u001b[0m\u001b[1;33m[\u001b[0m\u001b[1;36m0\u001b[0m\u001b[1;33m]\u001b[0m\u001b[1;33m)\u001b[0m\u001b[1;33m:\u001b[0m\u001b[1;33m\u001b[0m\u001b[1;33m\u001b[0m\u001b[0m\n\u001b[0;32m      5\u001b[0m \u001b[1;33m\u001b[0m\u001b[0m\n\u001b[1;32m----> 6\u001b[1;33m     \u001b[1;32mif\u001b[0m\u001b[1;33m(\u001b[0m\u001b[0mtemp\u001b[0m\u001b[1;33m<\u001b[0m\u001b[0mdf\u001b[0m\u001b[1;33m.\u001b[0m\u001b[0mUserID\u001b[0m\u001b[1;33m.\u001b[0m\u001b[0miat\u001b[0m\u001b[1;33m[\u001b[0m\u001b[0mi\u001b[0m\u001b[1;33m]\u001b[0m\u001b[1;33m)\u001b[0m\u001b[1;33m:\u001b[0m\u001b[1;33m\u001b[0m\u001b[1;33m\u001b[0m\u001b[0m\n\u001b[0m\u001b[0;32m      7\u001b[0m         \u001b[0mj\u001b[0m\u001b[1;33m+=\u001b[0m\u001b[1;36m1\u001b[0m\u001b[1;33m\u001b[0m\u001b[1;33m\u001b[0m\u001b[0m\n\u001b[0;32m      8\u001b[0m         \u001b[0mtemp\u001b[0m \u001b[1;33m=\u001b[0m \u001b[0mdf\u001b[0m\u001b[1;33m.\u001b[0m\u001b[0mUserID\u001b[0m\u001b[1;33m.\u001b[0m\u001b[0miat\u001b[0m\u001b[1;33m[\u001b[0m\u001b[0mi\u001b[0m\u001b[1;33m]\u001b[0m\u001b[1;33m\u001b[0m\u001b[1;33m\u001b[0m\u001b[0m\n",
      "\u001b[1;32mH:\\programs\\Anaconda3\\lib\\site-packages\\pandas\\core\\indexing.py\u001b[0m in \u001b[0;36m__getitem__\u001b[1;34m(self, key)\u001b[0m\n\u001b[0;32m   2134\u001b[0m \u001b[1;33m\u001b[0m\u001b[0m\n\u001b[0;32m   2135\u001b[0m             \u001b[1;31m# we could have a convertible item here (e.g. Timestamp)\u001b[0m\u001b[1;33m\u001b[0m\u001b[1;33m\u001b[0m\u001b[1;33m\u001b[0m\u001b[0m\n\u001b[1;32m-> 2136\u001b[1;33m             \u001b[1;32mif\u001b[0m \u001b[1;32mnot\u001b[0m \u001b[0mis_list_like_indexer\u001b[0m\u001b[1;33m(\u001b[0m\u001b[0mkey\u001b[0m\u001b[1;33m)\u001b[0m\u001b[1;33m:\u001b[0m\u001b[1;33m\u001b[0m\u001b[1;33m\u001b[0m\u001b[0m\n\u001b[0m\u001b[0;32m   2137\u001b[0m                 \u001b[0mkey\u001b[0m \u001b[1;33m=\u001b[0m \u001b[0mtuple\u001b[0m\u001b[1;33m(\u001b[0m\u001b[1;33m[\u001b[0m\u001b[0mkey\u001b[0m\u001b[1;33m]\u001b[0m\u001b[1;33m)\u001b[0m\u001b[1;33m\u001b[0m\u001b[1;33m\u001b[0m\u001b[0m\n\u001b[0;32m   2138\u001b[0m             \u001b[1;32melse\u001b[0m\u001b[1;33m:\u001b[0m\u001b[1;33m\u001b[0m\u001b[1;33m\u001b[0m\u001b[0m\n",
      "\u001b[1;32mH:\\programs\\Anaconda3\\lib\\site-packages\\pandas\\core\\indexing.py\u001b[0m in \u001b[0;36mis_list_like_indexer\u001b[1;34m(key)\u001b[0m\n\u001b[0;32m   2553\u001b[0m \u001b[1;32mdef\u001b[0m \u001b[0mis_list_like_indexer\u001b[0m\u001b[1;33m(\u001b[0m\u001b[0mkey\u001b[0m\u001b[1;33m)\u001b[0m\u001b[1;33m:\u001b[0m\u001b[1;33m\u001b[0m\u001b[1;33m\u001b[0m\u001b[0m\n\u001b[0;32m   2554\u001b[0m     \u001b[1;31m# allow a list_like, but exclude NamedTuples which can be indexers\u001b[0m\u001b[1;33m\u001b[0m\u001b[1;33m\u001b[0m\u001b[1;33m\u001b[0m\u001b[0m\n\u001b[1;32m-> 2555\u001b[1;33m     return is_list_like(key) and not (isinstance(key, tuple) and\n\u001b[0m\u001b[0;32m   2556\u001b[0m                                       type(key) is not tuple)\n\u001b[0;32m   2557\u001b[0m \u001b[1;33m\u001b[0m\u001b[0m\n",
      "\u001b[1;32mH:\\programs\\Anaconda3\\lib\\site-packages\\pandas\\core\\dtypes\\inference.py\u001b[0m in \u001b[0;36mis_list_like\u001b[1;34m(obj)\u001b[0m\n\u001b[0;32m    281\u001b[0m     \"\"\"\n\u001b[0;32m    282\u001b[0m \u001b[1;33m\u001b[0m\u001b[0m\n\u001b[1;32m--> 283\u001b[1;33m     return (isinstance(obj, Iterable) and\n\u001b[0m\u001b[0;32m    284\u001b[0m             not isinstance(obj, string_and_binary_types))\n\u001b[0;32m    285\u001b[0m \u001b[1;33m\u001b[0m\u001b[0m\n",
      "\u001b[1;32mH:\\programs\\Anaconda3\\lib\\abc.py\u001b[0m in \u001b[0;36m__instancecheck__\u001b[1;34m(cls, instance)\u001b[0m\n\u001b[0;32m    137\u001b[0m         \u001b[1;32mdef\u001b[0m \u001b[0m__instancecheck__\u001b[0m\u001b[1;33m(\u001b[0m\u001b[0mcls\u001b[0m\u001b[1;33m,\u001b[0m \u001b[0minstance\u001b[0m\u001b[1;33m)\u001b[0m\u001b[1;33m:\u001b[0m\u001b[1;33m\u001b[0m\u001b[1;33m\u001b[0m\u001b[0m\n\u001b[0;32m    138\u001b[0m             \u001b[1;34m\"\"\"Override for isinstance(instance, cls).\"\"\"\u001b[0m\u001b[1;33m\u001b[0m\u001b[1;33m\u001b[0m\u001b[0m\n\u001b[1;32m--> 139\u001b[1;33m             \u001b[1;32mreturn\u001b[0m \u001b[0m_abc_instancecheck\u001b[0m\u001b[1;33m(\u001b[0m\u001b[0mcls\u001b[0m\u001b[1;33m,\u001b[0m \u001b[0minstance\u001b[0m\u001b[1;33m)\u001b[0m\u001b[1;33m\u001b[0m\u001b[1;33m\u001b[0m\u001b[0m\n\u001b[0m\u001b[0;32m    140\u001b[0m \u001b[1;33m\u001b[0m\u001b[0m\n\u001b[0;32m    141\u001b[0m         \u001b[1;32mdef\u001b[0m \u001b[0m__subclasscheck__\u001b[0m\u001b[1;33m(\u001b[0m\u001b[0mcls\u001b[0m\u001b[1;33m,\u001b[0m \u001b[0msubclass\u001b[0m\u001b[1;33m)\u001b[0m\u001b[1;33m:\u001b[0m\u001b[1;33m\u001b[0m\u001b[1;33m\u001b[0m\u001b[0m\n",
      "\u001b[1;31mKeyboardInterrupt\u001b[0m: "
     ]
    }
   ],
   "source": [
    "j=0\n",
    "temp = df.UserID.iat[0]\n",
    "\n",
    "for i in range(df.shape[0]):\n",
    "    \n",
    "    if(temp<df.UserID.iat[i]):\n",
    "        j+=1\n",
    "        temp = df.UserID.iat[i]\n",
    "        \n",
    "    sm[i, j] = 1\n",
    "    sm[i, u_size + df.MovieID.iat[i]-1] = 1\n",
    "    \n",
    "    if i % 50000 == 0:\n",
    "        print(\"\\r Progress: {}/{} ({}%)\".format(i, df.shape[0], int(((i+1) / df.shape[0]) * 100)), end=\"\")\n",
    "    #print(i, j, sm[i,j])\n",
    "    #print(i, j1, sm[i,j1])\n",
    "#print(sm[0,0])"
   ]
  },
  {
   "cell_type": "code",
   "execution_count": null,
   "metadata": {
    "scrolled": true
   },
   "outputs": [],
   "source": [
    "sm = csr_matrix(sm)\n",
    "joblib.dump(sm, 'sparse_df_1.bin')"
   ]
  },
  {
   "cell_type": "code",
   "execution_count": 5,
   "metadata": {},
   "outputs": [],
   "source": [
    "sm = joblib.load('sparse_df_1.bin')"
   ]
  },
  {
   "cell_type": "code",
   "execution_count": 119,
   "metadata": {},
   "outputs": [
    {
     "name": "stdout",
     "output_type": "stream",
     "text": [
      "(24053764, 475257)\n",
      "(24053764,)\n"
     ]
    }
   ],
   "source": [
    "print(sm.shape)\n",
    "print(df_targ.shape)"
   ]
  },
  {
   "cell_type": "markdown",
   "metadata": {},
   "source": [
    "По лемме 1 нелинейную часть можно представить в виде: $\\sum_{i=1}^n \\sum_{j=i+1}^n \\langle {v}_i, {v}_f\\rangle x_ix_j = \\frac{1}{2}\\sum_{f=1}^k \\left( \\left(\\sum_{i=1}^n v_{i,f}x_i \\right)^2 - \\sum_{i=1}^n v^2_{i,f}x^2_i \\right)$\n",
    "<br>\n",
    "Производная $\\frac{dy}{dv}$ нелинейной части бдует следующей:\n",
    "<br>\n",
    "(1) = $\\left( \\left( \\sum_{i=1}^n v_{i,f}x_i \\right)^2 \\right)' _{v_if} = 2\\sum_{i=1}^n \\left(v_{i,f}x_i \\sum_{k=1}^n x_k\\right)$ или в матричном виде $\\sum_{f=1}^k2 (X\\mathbb{1})^TXV_f$\n",
    "<br>\n",
    "(2) = $ \\left( \\sum_{i=1}^n v_{i,f}^2x_i^2 \\right)' _{v_if} = 2\\sum_{i=1}^n v_{i,f}x_i^2 $ или в матричном виде $\\sum_{f=1}^k2 X^TXV_f$\n",
    "<br>\n",
    "<br>\n",
    "Тогда\n",
    "<br>\n",
    "$\\frac{dy}{dv_f} = \\frac{1}{2}\\sum_{f=1}^k \\left( (1) - (2) \\right)$ или в матричном виде $\\sum_{f=1}^k(X\\mathbb{1}-X)^TXV_f$\n",
    "<br>\n",
    "<br>\n",
    "И тогда $\\frac{dy}{dv}$ в матричном виде $(X\\mathbb{1}-X)^TXV\\mathbb{1}$"
   ]
  },
  {
   "cell_type": "code",
   "execution_count": 6,
   "metadata": {},
   "outputs": [],
   "source": [
    "def RMSE(x, y):\n",
    "    return np.sqrt(np.sum(np.power(y - x, 2)) / y.shape[0])\n",
    "\n",
    "\n",
    "def narrTheta(lr, iter_num):\n",
    "    return lr / np.sqrt(iter_num)\n",
    "\n",
    "\n",
    "def sgdFFM(X, y, max_iter=1e3, step=1e-3, epsilon=1e-4, batch_size=256, k=9):\n",
    "    w0 = 0\n",
    "    iter_num = 1\n",
    "    N = X.shape[0]\n",
    "    np.random.seed(42)\n",
    "    w1 = np.random.normal(size=X.shape[1])\n",
    "    V = np.random.normal(size=(X.shape[1], k))\n",
    "\n",
    "    while iter_num <= max_iter:\n",
    "        random_batch = np.random.choice(N, batch_size)\n",
    "        new_y = predict(X[random_batch, :], V, w0, w1)\n",
    "\n",
    "        dy = 2 * (new_y - y[random_batch])\n",
    "        w0 -= dy.mean() * step\n",
    "        \n",
    "        if hasattr(X, 'todense'):\n",
    "            w1 -= X[random_batch, :].T @ dy * step / batch_size  \n",
    "            #np.multiply(dy, X[random_batch, :]).mean(axis=0).T * step\n",
    "        else:\n",
    "            w1 -= X[random_batch, :].T @ dy * step / batch_size        \n",
    "        \n",
    "        for f in range(k):    \n",
    "            if hasattr(X[random_batch, :], 'todense'):            \n",
    "                dA = np.multiply(X[random_batch, :], (X[random_batch, :]@V[:,f]).reshape(-1, 1))            \n",
    "                dB = (X[random_batch, :].power(2)).multiply(V[:,f])           \n",
    "                V[:,f] -= step*np.asarray(((dA-dB).multiply(dy)).mean(axis=0))\n",
    "            else:\n",
    "                dA = X[random_batch, :]*(X[random_batch, :]@V[:,f]).reshape(-1, 1)          \n",
    "                dB = (X[random_batch, :]**2)*V[:,f]        \n",
    "                V[:,f] -= step*((dy.reshape(-1, 1)*(dA-dB)).mean(axis=0).T)\n",
    "        \n",
    "        iter_num += 1\n",
    "        if (np.linalg.norm(y[random_batch] - new_y) < epsilon): \n",
    "            print(np.linalg.norm(y[random_batch] - new_y))\n",
    "            return w0, w1, V\n",
    "        \n",
    "        if (iter_num%1000==0):\n",
    "            print(np.linalg.norm(y[random_batch] - new_y))\n",
    "        #print(np.linalg.norm(y[random_batch] - new_y))\n",
    "        \n",
    "    return w0, w1, V\n",
    "\n",
    "def nonLin(X, V):\n",
    "    if hasattr(X, 'todense'):\n",
    "        A = (X@V)**2\n",
    "        B = (X.power(2))@V**2\n",
    "    else:\n",
    "        A = (X@V)**2\n",
    "        B = (X**2)@(V**2)\n",
    "    \n",
    "    return 1/2*((A-B)@np.ones(V.shape[1]))\n",
    "\n",
    "def predict(X, V, w0, w1):\n",
    "    return w0 + X @ w1 + nonLin(X, V)\n"
   ]
  },
  {
   "cell_type": "markdown",
   "metadata": {},
   "source": [
    "<h1>Проверим на генерации</h1>"
   ]
  },
  {
   "cell_type": "code",
   "execution_count": 7,
   "metadata": {},
   "outputs": [
    {
     "name": "stdout",
     "output_type": "stream",
     "text": [
      "162.86414344024138\n",
      "22.4714031701688\n",
      "3.466270955104093\n",
      "0.47848650288152494\n",
      "0.0678996866351257\n",
      "0.009678311699661511\n",
      "0.0014041348570196027\n",
      "0.00020581446587118464\n",
      "9.984488851270882e-05\n",
      "158.88613073013812\n",
      "22.342249650310134\n",
      "3.2090986924241904\n",
      "0.46553902796153646\n",
      "0.06572528205273231\n",
      "0.009143636289346046\n",
      "0.0013404572196622\n",
      "0.00018170017863419448\n",
      "9.975910592368813e-05\n",
      "156.9739123400919\n",
      "22.096028473066163\n",
      "3.0911646193880853\n",
      "0.4030935037348191\n",
      "0.05547992899950314\n",
      "0.007591053328727859\n",
      "0.0011455642581463259\n",
      "0.00014657461189413373\n",
      "9.758676864292708e-05\n",
      "163.1305003676962\n",
      "25.22490175797429\n",
      "3.5342355735372486\n",
      "0.4541991985875971\n",
      "0.06681026557646229\n",
      "0.009287119033901227\n",
      "0.0015698131752767304\n",
      "0.00021134975188909005\n",
      "9.889562322818028e-05\n",
      "164.34217658959165\n",
      "25.38628792167202\n",
      "3.408839128088837\n",
      "0.4338258962262225\n",
      "0.06754828160352498\n",
      "0.008850233849077906\n",
      "0.0014901408248083874\n",
      "0.00021644460068296955\n",
      "9.996066284383349e-05\n",
      "Fold 5 \n",
      "Обучающая: \n",
      " [ 2.68228216e-06 -3.27938693e-07  3.62110456e-06 ...  5.68071250e-06\n",
      " -4.72519051e-06  4.74079807e-06] \n",
      "Тестовая: \n",
      " [ 4.37797633e-06 -2.09127263e-06  2.14611295e-06 ...  1.00027023e-05\n",
      "  1.05847772e-05 -6.54265061e-06] \n",
      " \n",
      "\n"
     ]
    }
   ],
   "source": [
    "X, y, coefs = make_regression(n_samples=10000, n_features=8, n_targets=1, n_informative=4, coef=True)\n",
    "\n",
    "folds_index = 5\n",
    "fold_size = round(X.shape[0] / folds_index)\n",
    "RMSE_test = []\n",
    "RMSE_train = []\n",
    "\n",
    "for i in range(folds_index):\n",
    "    test = X[i * fold_size:(i + 1) * fold_size]\n",
    "    testT = y[i * fold_size:(i + 1) * fold_size]\n",
    "    if i == 0:\n",
    "        train = X[(i + 1) * fold_size:, :]\n",
    "        trainT = y[(i + 1) * fold_size:]\n",
    "    else:\n",
    "        train = X[:i * fold_size, :]\n",
    "        trainT = y[:i * fold_size]\n",
    "        if i != 4:\n",
    "            train = np.concatenate((train, X[(i + 1) * fold_size:, :]))\n",
    "            trainT = np.concatenate([trainT, y[(i + 1) * fold_size:]])\n",
    "    \n",
    "    Target = trainT\n",
    "    Features = train\n",
    "    w0, w1, V = sgdFFM(Features, Target, 1e4, 1e-3)\n",
    "\n",
    "    train_pred = predict(Features, V, w0, w1)\n",
    "\n",
    "    RMSE_train.append(RMSE(train_pred, Target))\n",
    "    TargetT = testT\n",
    "    FeaturesT = test\n",
    "    test_pred = predict(FeaturesT, V, w0, w1)\n",
    "    RMSE_test.append(RMSE(test_pred, TargetT))\n",
    "\n",
    "print('Fold {}'.format(i + 1), '\\nОбучающая: \\n', train_pred - Target, '\\nТестовая: \\n', test_pred - TargetT, '\\n', '\\n')\n"
   ]
  },
  {
   "cell_type": "code",
   "execution_count": 8,
   "metadata": {},
   "outputs": [
    {
     "data": {
      "text/html": [
       "<div>\n",
       "<style scoped>\n",
       "    .dataframe tbody tr th:only-of-type {\n",
       "        vertical-align: middle;\n",
       "    }\n",
       "\n",
       "    .dataframe tbody tr th {\n",
       "        vertical-align: top;\n",
       "    }\n",
       "\n",
       "    .dataframe thead th {\n",
       "        text-align: right;\n",
       "    }\n",
       "</style>\n",
       "<table border=\"1\" class=\"dataframe\">\n",
       "  <thead>\n",
       "    <tr style=\"text-align: right;\">\n",
       "      <th></th>\n",
       "      <th>0</th>\n",
       "      <th>1</th>\n",
       "      <th>2</th>\n",
       "      <th>3</th>\n",
       "      <th>4</th>\n",
       "      <th>mean</th>\n",
       "      <th>std</th>\n",
       "    </tr>\n",
       "  </thead>\n",
       "  <tbody>\n",
       "    <tr>\n",
       "      <th>rmse_train</th>\n",
       "      <td>0.000007</td>\n",
       "      <td>0.000007</td>\n",
       "      <td>0.000007</td>\n",
       "      <td>0.000007</td>\n",
       "      <td>0.000007</td>\n",
       "      <td>0.000007</td>\n",
       "      <td>2.394659e-07</td>\n",
       "    </tr>\n",
       "    <tr>\n",
       "      <th>rmse_test</th>\n",
       "      <td>0.000007</td>\n",
       "      <td>0.000007</td>\n",
       "      <td>0.000007</td>\n",
       "      <td>0.000007</td>\n",
       "      <td>0.000007</td>\n",
       "      <td>0.000007</td>\n",
       "      <td>1.846684e-07</td>\n",
       "    </tr>\n",
       "  </tbody>\n",
       "</table>\n",
       "</div>"
      ],
      "text/plain": [
       "                   0         1         2         3         4      mean  \\\n",
       "rmse_train  0.000007  0.000007  0.000007  0.000007  0.000007  0.000007   \n",
       "rmse_test   0.000007  0.000007  0.000007  0.000007  0.000007  0.000007   \n",
       "\n",
       "                     std  \n",
       "rmse_train  2.394659e-07  \n",
       "rmse_test   1.846684e-07  "
      ]
     },
     "execution_count": 8,
     "metadata": {},
     "output_type": "execute_result"
    }
   ],
   "source": [
    "df = pd.DataFrame(np.vstack([RMSE_train, RMSE_test]), \n",
    "                  index=['rmse_train','rmse_test'])\n",
    "\n",
    "df = pd.concat([df, df.mean(axis=1).rename('mean'),\n",
    "                df.std(axis=1).rename('std')], axis=1)\n",
    "\n",
    "df"
   ]
  },
  {
   "cell_type": "markdown",
   "metadata": {},
   "source": [
    "<h1>Фигачим на данных1</h1>"
   ]
  },
  {
   "cell_type": "code",
   "execution_count": null,
   "metadata": {},
   "outputs": [
    {
     "name": "stdout",
     "output_type": "stream",
     "text": [
      "(24053764, 475257)\n",
      "<class 'scipy.sparse.csr.csr_matrix'>\n",
      "<class 'pandas.core.series.Series'>\n",
      "0-th fold\n"
     ]
    }
   ],
   "source": [
    "print(sm.shape)\n",
    "print(type(sm))\n",
    "X = sm\n",
    "y = df_targ.values\n",
    "\n",
    "print(type(df_targ))\n",
    "\n",
    "\n",
    "folds_index = 5\n",
    "fold_size = round(X.shape[0] / folds_index)\n",
    "RMSE_test = []\n",
    "RMSE_train = []\n",
    "\n",
    "for i in range(folds_index):\n",
    "    print('{}-th fold'.format(i))\n",
    "    test = sm[i * fold_size:(i + 1) * fold_size]\n",
    "    testT = y[i * fold_size:(i + 1) * fold_size]\n",
    "    if i == 0:\n",
    "        train = sm[(i + 1) * fold_size:, :]\n",
    "        trainT = y[(i + 1) * fold_size:]\n",
    "    else:\n",
    "        train = sm[:i * fold_size, :]\n",
    "        trainT = y[:i * fold_size]\n",
    "        if i != 4:\n",
    "            train = np.concatenate((train, sm[(i + 1) * fold_size:, :]))\n",
    "            trainT = np.concatenate([trainT, y[(i + 1) * fold_size:]])\n",
    "    \n",
    "    Target = trainT\n",
    "    Features = train\n",
    "    w0, w1, V = sgdFFM(Features, Target, 1e3, 1e-3)\n",
    "\n",
    "    train_pred = predict(Features, V, w0, w1)\n",
    "\n",
    "    RMSE_train.append(RMSE(train_pred, Target))\n",
    "    TargetT = testT\n",
    "    FeaturesT = test\n",
    "    test_pred = predict(FeaturesT, V, w0, w1)\n",
    "    RMSE_test.append(RMSE(test_pred, TargetT))\n",
    "\n",
    "print('Fold {}'.format(i + 1), '\\nОбучающая: \\n', train_pred - Target, '\\nТестовая: \\n', test_pred - TargetT, '\\n', '\\n')\n"
   ]
  },
  {
   "cell_type": "code",
   "execution_count": null,
   "metadata": {},
   "outputs": [],
   "source": [
    "df = pd.DataFrame(np.vstack([RMSE_train, RMSE_test]), \n",
    "                  index=['rmse_train','rmse_test'])\n",
    "\n",
    "df = pd.concat([df, df.mean(axis=1).rename('mean'),\n",
    "                df.std(axis=1).rename('std')], axis=1)\n",
    "\n",
    "df"
   ]
  }
 ],
 "metadata": {
  "kernelspec": {
   "display_name": "Python 3",
   "language": "python",
   "name": "python3"
  },
  "language_info": {
   "codemirror_mode": {
    "name": "ipython",
    "version": 3
   },
   "file_extension": ".py",
   "mimetype": "text/x-python",
   "name": "python",
   "nbconvert_exporter": "python",
   "pygments_lexer": "ipython3",
   "version": "3.7.1"
  }
 },
 "nbformat": 4,
 "nbformat_minor": 2
}
